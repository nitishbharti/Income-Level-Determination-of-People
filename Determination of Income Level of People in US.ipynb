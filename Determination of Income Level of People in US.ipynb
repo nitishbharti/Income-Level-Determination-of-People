{
 "cells": [
  {
   "cell_type": "markdown",
   "metadata": {},
   "source": [
    "# Problem Statement and Hypothesis Generation"
   ]
  },
  {
   "cell_type": "markdown",
   "metadata": {},
   "source": [
    "## Problem Statement"
   ]
  },
  {
   "cell_type": "markdown",
   "metadata": {},
   "source": [
    "Given Various features, the aim is to build a model to determine the income level for people in US. The income levels are binned at below 50K and above 50K."
   ]
  },
  {
   "cell_type": "markdown",
   "metadata": {},
   "source": [
    "## Hypothesis Generation"
   ]
  },
  {
   "cell_type": "markdown",
   "metadata": {},
   "source": [
    "### Features"
   ]
  },
  {
   "cell_type": "raw",
   "metadata": {},
   "source": [
    "Education\n",
    "Age\n",
    "Marital Status\n",
    "Income\n",
    "Investment\n",
    "Family Members\n",
    "Members of dependents\n",
    "Investment\n",
    "Return from investment\n",
    "Tax Paid\n",
    "Occupation\n",
    "Occupation Category\n",
    "Region in US\n",
    "Race\n",
    "Job Opputunities\n",
    "Gender"
   ]
  },
  {
   "cell_type": "markdown",
   "metadata": {},
   "source": [
    "#### Ho (Null Hypothesis) - None of the above predictors have signifiant impact on response.\n",
    "#### Ha (Alternate Hypothesis) - Atleast one of the above predictors have significant impact on response."
   ]
  },
  {
   "cell_type": "markdown",
   "metadata": {},
   "source": [
    "# Data Exploration"
   ]
  },
  {
   "cell_type": "code",
   "execution_count": 6,
   "metadata": {},
   "outputs": [],
   "source": [
    "train = read.csv('train.csv', na.strings=c(\"\",\" \",\"?\",\"NA\",NA))\n",
    "test = read.csv('test.csv', na.strings=c(\"\",\" \",\"?\",\"NA\",NA))"
   ]
  },
  {
   "cell_type": "code",
   "execution_count": 11,
   "metadata": {},
   "outputs": [
    {
     "data": {
      "text/html": [
       "<ol class=list-inline>\n",
       "\t<li>199523</li>\n",
       "\t<li>41</li>\n",
       "</ol>\n"
      ],
      "text/latex": [
       "\\begin{enumerate*}\n",
       "\\item 199523\n",
       "\\item 41\n",
       "\\end{enumerate*}\n"
      ],
      "text/markdown": [
       "1. 199523\n",
       "2. 41\n",
       "\n",
       "\n"
      ],
      "text/plain": [
       "[1] 199523     41"
      ]
     },
     "metadata": {},
     "output_type": "display_data"
    },
    {
     "data": {
      "text/html": [
       "<ol class=list-inline>\n",
       "\t<li>99762</li>\n",
       "\t<li>41</li>\n",
       "</ol>\n"
      ],
      "text/latex": [
       "\\begin{enumerate*}\n",
       "\\item 99762\n",
       "\\item 41\n",
       "\\end{enumerate*}\n"
      ],
      "text/markdown": [
       "1. 99762\n",
       "2. 41\n",
       "\n",
       "\n"
      ],
      "text/plain": [
       "[1] 99762    41"
      ]
     },
     "metadata": {},
     "output_type": "display_data"
    }
   ],
   "source": [
    "dim(train)\n",
    "dim(test)"
   ]
  },
  {
   "cell_type": "code",
   "execution_count": 12,
   "metadata": {},
   "outputs": [
    {
     "data": {
      "text/html": [
       "<table>\n",
       "<thead><tr><th scope=col>age</th><th scope=col>class_of_worker</th><th scope=col>industry_code</th><th scope=col>occupation_code</th><th scope=col>education</th><th scope=col>wage_per_hour</th><th scope=col>enrolled_in_edu_inst_lastwk</th><th scope=col>marital_status</th><th scope=col>major_industry_code</th><th scope=col>major_occupation_code</th><th scope=col>⋯</th><th scope=col>country_father</th><th scope=col>country_mother</th><th scope=col>country_self</th><th scope=col>citizenship</th><th scope=col>business_or_self_employed</th><th scope=col>fill_questionnaire_veteran_admin</th><th scope=col>veterans_benefits</th><th scope=col>weeks_worked_in_year</th><th scope=col>year</th><th scope=col>income_level</th></tr></thead>\n",
       "<tbody>\n",
       "\t<tr><td>73                                 </td><td>Not in universe                    </td><td>0                                  </td><td> 0                                 </td><td>High school graduate               </td><td>0                                  </td><td>Not in universe                    </td><td>Widowed                            </td><td>Not in universe or children        </td><td>Not in universe                    </td><td>⋯                                  </td><td>United-States                      </td><td>United-States                      </td><td>United-States                      </td><td>Native- Born in the United States  </td><td>0                                  </td><td>Not in universe                    </td><td>2                                  </td><td> 0                                 </td><td>95                                 </td><td>-50000                             </td></tr>\n",
       "\t<tr><td>58                                                                 </td><td>Self-employed-not incorporated                                     </td><td>4                                                                  </td><td>34                                                                 </td><td>Some college but no degree                                         </td><td>0                                                                  </td><td>Not in universe                                                    </td><td><span style=white-space:pre-wrap>Divorced     </span>              </td><td><span style=white-space:pre-wrap>Construction               </span></td><td>Precision production craft &amp; repair                            </td><td>⋯                                                                  </td><td>United-States                                                      </td><td>United-States                                                      </td><td>United-States                                                      </td><td>Native- Born in the United States                                  </td><td>0                                                                  </td><td>Not in universe                                                    </td><td>2                                                                  </td><td>52                                                                 </td><td>94                                                                 </td><td>-50000                                                             </td></tr>\n",
       "\t<tr><td>18                                 </td><td>Not in universe                    </td><td>0                                  </td><td> 0                                 </td><td>10th grade                         </td><td>0                                  </td><td>High school                        </td><td>Never married                      </td><td>Not in universe or children        </td><td>Not in universe                    </td><td>⋯                                  </td><td>Vietnam                            </td><td>Vietnam                            </td><td>Vietnam                            </td><td>Foreign born- Not a citizen of U S </td><td>0                                  </td><td>Not in universe                    </td><td>2                                  </td><td> 0                                 </td><td>95                                 </td><td>-50000                             </td></tr>\n",
       "\t<tr><td> 9                                 </td><td>Not in universe                    </td><td>0                                  </td><td> 0                                 </td><td>Children                           </td><td>0                                  </td><td>Not in universe                    </td><td>Never married                      </td><td>Not in universe or children        </td><td>Not in universe                    </td><td>⋯                                  </td><td>United-States                      </td><td>United-States                      </td><td>United-States                      </td><td>Native- Born in the United States  </td><td>0                                  </td><td>Not in universe                    </td><td>0                                  </td><td> 0                                 </td><td>94                                 </td><td>-50000                             </td></tr>\n",
       "\t<tr><td>10                                 </td><td>Not in universe                    </td><td>0                                  </td><td> 0                                 </td><td>Children                           </td><td>0                                  </td><td>Not in universe                    </td><td>Never married                      </td><td>Not in universe or children        </td><td>Not in universe                    </td><td>⋯                                  </td><td>United-States                      </td><td>United-States                      </td><td>United-States                      </td><td>Native- Born in the United States  </td><td>0                                  </td><td>Not in universe                    </td><td>0                                  </td><td> 0                                 </td><td>94                                 </td><td>-50000                             </td></tr>\n",
       "</tbody>\n",
       "</table>\n"
      ],
      "text/latex": [
       "\\begin{tabular}{r|lllllllllllllllllllllllllllllllllllllllll}\n",
       " age & class\\_of\\_worker & industry\\_code & occupation\\_code & education & wage\\_per\\_hour & enrolled\\_in\\_edu\\_inst\\_lastwk & marital\\_status & major\\_industry\\_code & major\\_occupation\\_code & ⋯ & country\\_father & country\\_mother & country\\_self & citizenship & business\\_or\\_self\\_employed & fill\\_questionnaire\\_veteran\\_admin & veterans\\_benefits & weeks\\_worked\\_in\\_year & year & income\\_level\\\\\n",
       "\\hline\n",
       "\t 73                                  & Not in universe                     & 0                                   &  0                                  & High school graduate                & 0                                   & Not in universe                     & Widowed                             & Not in universe or children         & Not in universe                     & ⋯                                   & United-States                       & United-States                       & United-States                       & Native- Born in the United States   & 0                                   & Not in universe                     & 2                                   &  0                                  & 95                                  & -50000                             \\\\\n",
       "\t 58                                    & Self-employed-not incorporated        & 4                                     & 34                                    & Some college but no degree            & 0                                     & Not in universe                       & Divorced                              & Construction                          & Precision production craft \\& repair & ⋯                                     & United-States                         & United-States                         & United-States                         & Native- Born in the United States     & 0                                     & Not in universe                       & 2                                     & 52                                    & 94                                    & -50000                               \\\\\n",
       "\t 18                                  & Not in universe                     & 0                                   &  0                                  & 10th grade                          & 0                                   & High school                         & Never married                       & Not in universe or children         & Not in universe                     & ⋯                                   & Vietnam                             & Vietnam                             & Vietnam                             & Foreign born- Not a citizen of U S  & 0                                   & Not in universe                     & 2                                   &  0                                  & 95                                  & -50000                             \\\\\n",
       "\t  9                                  & Not in universe                     & 0                                   &  0                                  & Children                            & 0                                   & Not in universe                     & Never married                       & Not in universe or children         & Not in universe                     & ⋯                                   & United-States                       & United-States                       & United-States                       & Native- Born in the United States   & 0                                   & Not in universe                     & 0                                   &  0                                  & 94                                  & -50000                             \\\\\n",
       "\t 10                                  & Not in universe                     & 0                                   &  0                                  & Children                            & 0                                   & Not in universe                     & Never married                       & Not in universe or children         & Not in universe                     & ⋯                                   & United-States                       & United-States                       & United-States                       & Native- Born in the United States   & 0                                   & Not in universe                     & 0                                   &  0                                  & 94                                  & -50000                             \\\\\n",
       "\\end{tabular}\n"
      ],
      "text/markdown": [
       "\n",
       "age | class_of_worker | industry_code | occupation_code | education | wage_per_hour | enrolled_in_edu_inst_lastwk | marital_status | major_industry_code | major_occupation_code | ⋯ | country_father | country_mother | country_self | citizenship | business_or_self_employed | fill_questionnaire_veteran_admin | veterans_benefits | weeks_worked_in_year | year | income_level | \n",
       "|---|---|---|---|---|\n",
       "| 73                                  | Not in universe                     | 0                                   |  0                                  | High school graduate                | 0                                   | Not in universe                     | Widowed                             | Not in universe or children         | Not in universe                     | ⋯                                   | United-States                       | United-States                       | United-States                       | Native- Born in the United States   | 0                                   | Not in universe                     | 2                                   |  0                                  | 95                                  | -50000                              | \n",
       "| 58                                  | Self-employed-not incorporated      | 4                                   | 34                                  | Some college but no degree          | 0                                   | Not in universe                     | Divorced                            | Construction                        | Precision production craft & repair | ⋯                                   | United-States                       | United-States                       | United-States                       | Native- Born in the United States   | 0                                   | Not in universe                     | 2                                   | 52                                  | 94                                  | -50000                              | \n",
       "| 18                                  | Not in universe                     | 0                                   |  0                                  | 10th grade                          | 0                                   | High school                         | Never married                       | Not in universe or children         | Not in universe                     | ⋯                                   | Vietnam                             | Vietnam                             | Vietnam                             | Foreign born- Not a citizen of U S  | 0                                   | Not in universe                     | 2                                   |  0                                  | 95                                  | -50000                              | \n",
       "|  9                                  | Not in universe                     | 0                                   |  0                                  | Children                            | 0                                   | Not in universe                     | Never married                       | Not in universe or children         | Not in universe                     | ⋯                                   | United-States                       | United-States                       | United-States                       | Native- Born in the United States   | 0                                   | Not in universe                     | 0                                   |  0                                  | 94                                  | -50000                              | \n",
       "| 10                                  | Not in universe                     | 0                                   |  0                                  | Children                            | 0                                   | Not in universe                     | Never married                       | Not in universe or children         | Not in universe                     | ⋯                                   | United-States                       | United-States                       | United-States                       | Native- Born in the United States   | 0                                   | Not in universe                     | 0                                   |  0                                  | 94                                  | -50000                              | \n",
       "\n",
       "\n"
      ],
      "text/plain": [
       "  age class_of_worker                industry_code occupation_code\n",
       "1 73  Not in universe                0              0             \n",
       "2 58  Self-employed-not incorporated 4             34             \n",
       "3 18  Not in universe                0              0             \n",
       "4  9  Not in universe                0              0             \n",
       "5 10  Not in universe                0              0             \n",
       "  education                  wage_per_hour enrolled_in_edu_inst_lastwk\n",
       "1 High school graduate       0             Not in universe            \n",
       "2 Some college but no degree 0             Not in universe            \n",
       "3 10th grade                 0             High school                \n",
       "4 Children                   0             Not in universe            \n",
       "5 Children                   0             Not in universe            \n",
       "  marital_status major_industry_code        \n",
       "1 Widowed        Not in universe or children\n",
       "2 Divorced       Construction               \n",
       "3 Never married  Not in universe or children\n",
       "4 Never married  Not in universe or children\n",
       "5 Never married  Not in universe or children\n",
       "  major_occupation_code               ⋯ country_father country_mother\n",
       "1 Not in universe                     ⋯ United-States  United-States \n",
       "2 Precision production craft & repair ⋯ United-States  United-States \n",
       "3 Not in universe                     ⋯ Vietnam        Vietnam       \n",
       "4 Not in universe                     ⋯ United-States  United-States \n",
       "5 Not in universe                     ⋯ United-States  United-States \n",
       "  country_self  citizenship                        business_or_self_employed\n",
       "1 United-States Native- Born in the United States  0                        \n",
       "2 United-States Native- Born in the United States  0                        \n",
       "3 Vietnam       Foreign born- Not a citizen of U S 0                        \n",
       "4 United-States Native- Born in the United States  0                        \n",
       "5 United-States Native- Born in the United States  0                        \n",
       "  fill_questionnaire_veteran_admin veterans_benefits weeks_worked_in_year year\n",
       "1 Not in universe                  2                  0                   95  \n",
       "2 Not in universe                  2                 52                   94  \n",
       "3 Not in universe                  2                  0                   95  \n",
       "4 Not in universe                  0                  0                   94  \n",
       "5 Not in universe                  0                  0                   94  \n",
       "  income_level\n",
       "1 -50000      \n",
       "2 -50000      \n",
       "3 -50000      \n",
       "4 -50000      \n",
       "5 -50000      "
      ]
     },
     "metadata": {},
     "output_type": "display_data"
    }
   ],
   "source": [
    "train[1:5,]"
   ]
  },
  {
   "cell_type": "code",
   "execution_count": 13,
   "metadata": {},
   "outputs": [
    {
     "data": {
      "text/html": [
       "<table>\n",
       "<thead><tr><th scope=col>age</th><th scope=col>class_of_worker</th><th scope=col>industry_code</th><th scope=col>occupation_code</th><th scope=col>education</th><th scope=col>wage_per_hour</th><th scope=col>enrolled_in_edu_inst_lastwk</th><th scope=col>marital_status</th><th scope=col>major_industry_code</th><th scope=col>major_occupation_code</th><th scope=col>⋯</th><th scope=col>country_father</th><th scope=col>country_mother</th><th scope=col>country_self</th><th scope=col>citizenship</th><th scope=col>business_or_self_employed</th><th scope=col>fill_questionnaire_veteran_admin</th><th scope=col>veterans_benefits</th><th scope=col>weeks_worked_in_year</th><th scope=col>year</th><th scope=col>income_level</th></tr></thead>\n",
       "<tbody>\n",
       "\t<tr><td>38                                                                          </td><td><span style=white-space:pre-wrap> Private                       </span>     </td><td> 6                                                                          </td><td>36                                                                          </td><td><span style=white-space:pre-wrap> 1st 2nd 3rd or 4th grade           </span></td><td>0                                                                           </td><td> Not in universe                                                            </td><td> Married-civilian spouse present                                            </td><td> Manufacturing-durable goods                                                </td><td> Machine operators assmblrs &amp; inspctrs                                  </td><td>⋯                                                                           </td><td><span style=white-space:pre-wrap> Mexico       </span>                      </td><td><span style=white-space:pre-wrap> Mexico       </span>                      </td><td><span style=white-space:pre-wrap> Mexico       </span>                      </td><td> Foreign born- Not a citizen of U S                                         </td><td>0                                                                           </td><td> Not in universe                                                            </td><td>2                                                                           </td><td>12                                                                          </td><td>95                                                                          </td><td>-50000                                                                      </td></tr>\n",
       "\t<tr><td>44                                    </td><td> Self-employed-not incorporated       </td><td>37                                    </td><td>12                                    </td><td> Associates degree-occup /vocational  </td><td>0                                     </td><td> Not in universe                      </td><td> Married-civilian spouse present      </td><td> Business and repair services         </td><td> Professional specialty               </td><td>⋯                                     </td><td> United-States                        </td><td> United-States                        </td><td> United-States                        </td><td> Native- Born in the United States    </td><td>0                                     </td><td> Not in universe                      </td><td>2                                     </td><td>26                                    </td><td>95                                    </td><td>-50000                                </td></tr>\n",
       "\t<tr><td> 2                                    </td><td> Not in universe                      </td><td> 0                                    </td><td> 0                                    </td><td> Children                             </td><td>0                                     </td><td> Not in universe                      </td><td> Never married                        </td><td> Not in universe or children          </td><td> Not in universe                      </td><td>⋯                                     </td><td> United-States                        </td><td> United-States                        </td><td> United-States                        </td><td> Native- Born in the United States    </td><td>0                                     </td><td> Not in universe                      </td><td>0                                     </td><td> 0                                    </td><td>95                                    </td><td>-50000                                </td></tr>\n",
       "\t<tr><td>35                                    </td><td> Private                              </td><td>29                                    </td><td> 3                                    </td><td> High school graduate                 </td><td>0                                     </td><td> Not in universe                      </td><td> Divorced                             </td><td> Transportation                       </td><td> Executive admin and managerial       </td><td>⋯                                     </td><td> United-States                        </td><td> United-States                        </td><td> United-States                        </td><td> Native- Born in the United States    </td><td>2                                     </td><td> Not in universe                      </td><td>2                                     </td><td>52                                    </td><td>94                                    </td><td>-50000                                </td></tr>\n",
       "\t<tr><td>49                                                                                </td><td><span style=white-space:pre-wrap> Private                       </span>           </td><td> 4                                                                                </td><td>34                                                                                </td><td><span style=white-space:pre-wrap> High school graduate               </span>      </td><td>0                                                                                 </td><td> Not in universe                                                                  </td><td><span style=white-space:pre-wrap> Divorced                       </span>          </td><td><span style=white-space:pre-wrap> Construction                </span>             </td><td><span style=white-space:pre-wrap> Precision production craft &amp; repair  </span></td><td>⋯                                                                                 </td><td> United-States                                                                    </td><td> United-States                                                                    </td><td> United-States                                                                    </td><td><span style=white-space:pre-wrap> Native- Born in the United States  </span>      </td><td>0                                                                                 </td><td> Not in universe                                                                  </td><td>2                                                                                 </td><td>50                                                                                </td><td>95                                                                                </td><td>-50000                                                                            </td></tr>\n",
       "</tbody>\n",
       "</table>\n"
      ],
      "text/latex": [
       "\\begin{tabular}{r|lllllllllllllllllllllllllllllllllllllllll}\n",
       " age & class\\_of\\_worker & industry\\_code & occupation\\_code & education & wage\\_per\\_hour & enrolled\\_in\\_edu\\_inst\\_lastwk & marital\\_status & major\\_industry\\_code & major\\_occupation\\_code & ⋯ & country\\_father & country\\_mother & country\\_self & citizenship & business\\_or\\_self\\_employed & fill\\_questionnaire\\_veteran\\_admin & veterans\\_benefits & weeks\\_worked\\_in\\_year & year & income\\_level\\\\\n",
       "\\hline\n",
       "\t 38                                       &  Private                                 &  6                                       & 36                                       &  1st 2nd 3rd or 4th grade                & 0                                        &  Not in universe                         &  Married-civilian spouse present         &  Manufacturing-durable goods             &  Machine operators assmblrs \\& inspctrs & ⋯                                        &  Mexico                                  &  Mexico                                  &  Mexico                                  &  Foreign born- Not a citizen of U S      & 0                                        &  Not in universe                         & 2                                        & 12                                       & 95                                       & -50000                                  \\\\\n",
       "\t 44                                     &  Self-employed-not incorporated        & 37                                     & 12                                     &  Associates degree-occup /vocational   & 0                                      &  Not in universe                       &  Married-civilian spouse present       &  Business and repair services          &  Professional specialty                & ⋯                                      &  United-States                         &  United-States                         &  United-States                         &  Native- Born in the United States     & 0                                      &  Not in universe                       & 2                                      & 26                                     & 95                                     & -50000                                \\\\\n",
       "\t  2                                     &  Not in universe                       &  0                                     &  0                                     &  Children                              & 0                                      &  Not in universe                       &  Never married                         &  Not in universe or children           &  Not in universe                       & ⋯                                      &  United-States                         &  United-States                         &  United-States                         &  Native- Born in the United States     & 0                                      &  Not in universe                       & 0                                      &  0                                     & 95                                     & -50000                                \\\\\n",
       "\t 35                                     &  Private                               & 29                                     &  3                                     &  High school graduate                  & 0                                      &  Not in universe                       &  Divorced                              &  Transportation                        &  Executive admin and managerial        & ⋯                                      &  United-States                         &  United-States                         &  United-States                         &  Native- Born in the United States     & 2                                      &  Not in universe                       & 2                                      & 52                                     & 94                                     & -50000                                \\\\\n",
       "\t 49                                       &  Private                                 &  4                                       & 34                                       &  High school graduate                    & 0                                        &  Not in universe                         &  Divorced                                &  Construction                            &  Precision production craft \\& repair   & ⋯                                        &  United-States                           &  United-States                           &  United-States                           &  Native- Born in the United States       & 0                                        &  Not in universe                         & 2                                        & 50                                       & 95                                       & -50000                                  \\\\\n",
       "\\end{tabular}\n"
      ],
      "text/markdown": [
       "\n",
       "age | class_of_worker | industry_code | occupation_code | education | wage_per_hour | enrolled_in_edu_inst_lastwk | marital_status | major_industry_code | major_occupation_code | ⋯ | country_father | country_mother | country_self | citizenship | business_or_self_employed | fill_questionnaire_veteran_admin | veterans_benefits | weeks_worked_in_year | year | income_level | \n",
       "|---|---|---|---|---|\n",
       "| 38                                     |  Private                               |  6                                     | 36                                     |  1st 2nd 3rd or 4th grade              | 0                                      |  Not in universe                       |  Married-civilian spouse present       |  Manufacturing-durable goods           |  Machine operators assmblrs & inspctrs | ⋯                                      |  Mexico                                |  Mexico                                |  Mexico                                |  Foreign born- Not a citizen of U S    | 0                                      |  Not in universe                       | 2                                      | 12                                     | 95                                     | -50000                                 | \n",
       "| 44                                     |  Self-employed-not incorporated        | 37                                     | 12                                     |  Associates degree-occup /vocational   | 0                                      |  Not in universe                       |  Married-civilian spouse present       |  Business and repair services          |  Professional specialty                | ⋯                                      |  United-States                         |  United-States                         |  United-States                         |  Native- Born in the United States     | 0                                      |  Not in universe                       | 2                                      | 26                                     | 95                                     | -50000                                 | \n",
       "|  2                                     |  Not in universe                       |  0                                     |  0                                     |  Children                              | 0                                      |  Not in universe                       |  Never married                         |  Not in universe or children           |  Not in universe                       | ⋯                                      |  United-States                         |  United-States                         |  United-States                         |  Native- Born in the United States     | 0                                      |  Not in universe                       | 0                                      |  0                                     | 95                                     | -50000                                 | \n",
       "| 35                                     |  Private                               | 29                                     |  3                                     |  High school graduate                  | 0                                      |  Not in universe                       |  Divorced                              |  Transportation                        |  Executive admin and managerial        | ⋯                                      |  United-States                         |  United-States                         |  United-States                         |  Native- Born in the United States     | 2                                      |  Not in universe                       | 2                                      | 52                                     | 94                                     | -50000                                 | \n",
       "| 49                                     |  Private                               |  4                                     | 34                                     |  High school graduate                  | 0                                      |  Not in universe                       |  Divorced                              |  Construction                          |  Precision production craft & repair   | ⋯                                      |  United-States                         |  United-States                         |  United-States                         |  Native- Born in the United States     | 0                                      |  Not in universe                       | 2                                      | 50                                     | 95                                     | -50000                                 | \n",
       "\n",
       "\n"
      ],
      "text/plain": [
       "  age class_of_worker                 industry_code occupation_code\n",
       "1 38   Private                         6            36             \n",
       "2 44   Self-employed-not incorporated 37            12             \n",
       "3  2   Not in universe                 0             0             \n",
       "4 35   Private                        29             3             \n",
       "5 49   Private                         4            34             \n",
       "  education                            wage_per_hour\n",
       "1  1st 2nd 3rd or 4th grade            0            \n",
       "2  Associates degree-occup /vocational 0            \n",
       "3  Children                            0            \n",
       "4  High school graduate                0            \n",
       "5  High school graduate                0            \n",
       "  enrolled_in_edu_inst_lastwk marital_status                  \n",
       "1  Not in universe             Married-civilian spouse present\n",
       "2  Not in universe             Married-civilian spouse present\n",
       "3  Not in universe             Never married                  \n",
       "4  Not in universe             Divorced                       \n",
       "5  Not in universe             Divorced                       \n",
       "  major_industry_code           major_occupation_code                  ⋯\n",
       "1  Manufacturing-durable goods   Machine operators assmblrs & inspctrs ⋯\n",
       "2  Business and repair services  Professional specialty                ⋯\n",
       "3  Not in universe or children   Not in universe                       ⋯\n",
       "4  Transportation                Executive admin and managerial        ⋯\n",
       "5  Construction                  Precision production craft & repair   ⋯\n",
       "  country_father country_mother country_self  \n",
       "1  Mexico         Mexico         Mexico       \n",
       "2  United-States  United-States  United-States\n",
       "3  United-States  United-States  United-States\n",
       "4  United-States  United-States  United-States\n",
       "5  United-States  United-States  United-States\n",
       "  citizenship                          business_or_self_employed\n",
       "1  Foreign born- Not a citizen of U S  0                        \n",
       "2  Native- Born in the United States   0                        \n",
       "3  Native- Born in the United States   0                        \n",
       "4  Native- Born in the United States   2                        \n",
       "5  Native- Born in the United States   0                        \n",
       "  fill_questionnaire_veteran_admin veterans_benefits weeks_worked_in_year year\n",
       "1  Not in universe                 2                 12                   95  \n",
       "2  Not in universe                 2                 26                   95  \n",
       "3  Not in universe                 0                  0                   95  \n",
       "4  Not in universe                 2                 52                   94  \n",
       "5  Not in universe                 2                 50                   95  \n",
       "  income_level\n",
       "1 -50000      \n",
       "2 -50000      \n",
       "3 -50000      \n",
       "4 -50000      \n",
       "5 -50000      "
      ]
     },
     "metadata": {},
     "output_type": "display_data"
    }
   ],
   "source": [
    "test[1:5,]"
   ]
  },
  {
   "cell_type": "code",
   "execution_count": null,
   "metadata": {},
   "outputs": [],
   "source": []
  },
  {
   "cell_type": "code",
   "execution_count": null,
   "metadata": {},
   "outputs": [],
   "source": []
  },
  {
   "cell_type": "code",
   "execution_count": null,
   "metadata": {},
   "outputs": [],
   "source": []
  },
  {
   "cell_type": "code",
   "execution_count": null,
   "metadata": {},
   "outputs": [],
   "source": []
  },
  {
   "cell_type": "code",
   "execution_count": null,
   "metadata": {},
   "outputs": [],
   "source": []
  }
 ],
 "metadata": {
  "kernelspec": {
   "display_name": "R",
   "language": "R",
   "name": "ir"
  },
  "language_info": {
   "codemirror_mode": "r",
   "file_extension": ".r",
   "mimetype": "text/x-r-source",
   "name": "R",
   "pygments_lexer": "r",
   "version": "3.2.3"
  }
 },
 "nbformat": 4,
 "nbformat_minor": 2
}
